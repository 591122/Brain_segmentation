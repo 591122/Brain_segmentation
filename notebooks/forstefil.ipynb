{
 "cells": [
  {
   "cell_type": "code",
   "execution_count": null,
   "metadata": {},
   "outputs": [],
   "source": [
    "import numpy as np # linear algebra\n",
    "import pandas as pd # data processing, CSV file I/O (e.g. pd.read_csv)\n",
    "from matplotlib import pyplot as plt\n",
    "import pickle\n",
    "import nibabel as nib\n",
    "from monai.apps import DecathlonDataset\n",
    "from sklearn.model_selection import train_test_split\n",
    "from fastMONAI.vision_all import *\n",
    "from PIL import Image \n",
    "import PIL \n",
    "import numpy as np \n",
    "import numpy.ma as ma\n",
    "import matplotlib.pyplot as plt\n",
    "import cv2\n"
   ]
  },
  {
   "cell_type": "code",
   "execution_count": null,
   "metadata": {},
   "outputs": [],
   "source": [
    "top = nib.load('../data/external/IXI-T1/IXI012-HH-1211-T1.nii.gz')\n",
    "top2 = nib.load('../data/external/IXI-T1/IXI013-HH-1212-T1.nii.gz')\n",
    "top3 = nib.load('../data/external/IXI-T1/IXI016-Guys-0697-T1.nii.gz')\n",
    "side = nib.load('../data/external/IXI-T2/IXI012-HH-1211-T2.nii.gz')\n",
    "DTI = nib.load('../data/external/IXI-DTI/IXI012-HH-1211-DTI-00.nii.gz')\n",
    "MRA = nib.load('../data/external/IXI-MRA/IXI012-HH-1211-MRA.nii.gz') \n",
    "PD = nib.load('../data/external/IXI-PD/IXI012-HH-1211-PD.nii.gz')\n",
    "top.shape"
   ]
  }
 ],
 "metadata": {
  "language_info": {
   "name": "python"
  },
  "orig_nbformat": 4
 },
 "nbformat": 4,
 "nbformat_minor": 2
}
