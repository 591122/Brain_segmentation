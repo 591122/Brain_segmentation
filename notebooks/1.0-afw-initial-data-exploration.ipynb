{
 "cells": [
  {
   "cell_type": "code",
   "execution_count": null,
   "metadata": {},
   "outputs": [],
   "source": [
    "import numpy as np # linear algebra\n",
    "import pandas as pd # data processing, CSV file I/O (e.g. pd.read_csv)\n",
    "from matplotlib import pyplot as plt\n",
    "import pickle\n",
    "import nibabel as nib\n",
    "from monai.apps import DecathlonDataset\n",
    "from sklearn.model_selection import train_test_split\n",
    "from fastMONAI.vision_all import *\n",
    "from PIL import Image \n",
    "import PIL \n",
    "import numpy as np \n",
    "import numpy.ma as ma\n",
    "import matplotlib.pyplot as plt\n",
    "import cv2\n"
   ]
  },
  {
   "cell_type": "code",
   "execution_count": null,
   "metadata": {},
   "outputs": [],
   "source": [
    "#msk = PILMask.create(lbl_names[5])\n",
    "#msk.show(figsize=(5,5), alpha=0.6)"
   ]
  },
  {
   "cell_type": "code",
   "execution_count": null,
   "metadata": {},
   "outputs": [],
   "source": [
    "#img.show(figsize=(5,5))\n",
    "#msk.show(figsize=(5,5), alpha=0.6)\n",
    "#plt.imshow(image, cmap='gray') "
   ]
  },
  {
   "cell_type": "code",
   "execution_count": null,
   "metadata": {},
   "outputs": [],
   "source": [
    "top = nib.load('../data/external/IXI-T1/IXI012-HH-1211-T1.nii.gz')\n",
    "top2 = nib.load('../data/external/IXI-T1/IXI013-HH-1212-T1.nii.gz')\n",
    "top3 = nib.load('../data/external/IXI-T1/IXI016-Guys-0697-T1.nii.gz')\n",
    "side = nib.load('../data/external/IXI-T2/IXI012-HH-1211-T2.nii.gz')\n",
    "DTI = nib.load('../data/external/IXI-DTI/IXI012-HH-1211-DTI-00.nii.gz')\n",
    "MRA = nib.load('../data/external/IXI-MRA/IXI012-HH-1211-MRA.nii.gz') \n",
    "PD = nib.load('../data/external/IXI-PD/IXI012-HH-1211-PD.nii.gz')\n",
    "top.shape\n",
    "#Prøvde først å laste inn daten slik"
   ]
  },
  {
   "cell_type": "code",
   "execution_count": null,
   "metadata": {},
   "outputs": [],
   "source": [
    "camvid = DataBlock(blocks=(ImageBlock, MaskBlock(codes)),\n",
    "                   get_items=get_image_files,\n",
    "                   splitter=RandomSplitter(),\n",
    "                   get_y=get_msk,\n",
    "                   #batch_tfms=[*aug_transforms(size='half'), Normalize.from_stats(*imagenet_stats)]\n",
    "                   )\n",
    "#Eksperimenterte med datablock"
   ]
  },
  {
   "cell_type": "code",
   "execution_count": null,
   "metadata": {},
   "outputs": [],
   "source": [
    "dls = camvid.dataloaders(Path('../data/processed/IXI_2d_slices/Axial'), bs=16)"
   ]
  },
  {
   "cell_type": "code",
   "execution_count": null,
   "metadata": {},
   "outputs": [],
   "source": [
    "dls.show_batch(max_n=4, vmin=1, vmax=30, figsize=(14,10))"
   ]
  },
  {
   "cell_type": "code",
   "execution_count": null,
   "metadata": {},
   "outputs": [],
   "source": [
    "dls.vocab = codes"
   ]
  },
  {
   "cell_type": "code",
   "execution_count": null,
   "metadata": {},
   "outputs": [],
   "source": [
    "name2id = {v:k for k,v in enumerate(codes)}\n",
    "name2id"
   ]
  },
  {
   "cell_type": "code",
   "execution_count": null,
   "metadata": {},
   "outputs": [],
   "source": [
    "void_code = name2id['Unknown']"
   ]
  },
  {
   "cell_type": "code",
   "execution_count": null,
   "metadata": {},
   "outputs": [],
   "source": [
    "def acc_camvid(inp, targ):\n",
    "  targ = targ.squeeze(1)\n",
    "  mask = targ != void_code\n",
    "  return (inp.argmax(dim=1)[mask]==targ[mask]).float().mean()"
   ]
  },
  {
   "cell_type": "code",
   "execution_count": null,
   "metadata": {},
   "outputs": [],
   "source": [
    "opt = ranger"
   ]
  },
  {
   "cell_type": "code",
   "execution_count": null,
   "metadata": {},
   "outputs": [],
   "source": [
    "learn = unet_learner(dls, resnet34, metrics=acc_camvid, self_attention=True, act_cls=Mish, opt_func=opt)"
   ]
  },
  {
   "cell_type": "code",
   "execution_count": null,
   "metadata": {},
   "outputs": [],
   "source": [
    "image = cv2.imread('../data/processed/IXI_2d_slices/Axial/IXI002-Guys-0828-2d_axial.png')\n",
    "image_mask = cv2.imread('../data/processed/IXI_2d_slices/AxialMask/IXI002-Guys-0828-2d_axial-mask.png')\n",
    "\n",
    "#18, 18 ,18 Left Hippocampus\n",
    "\n",
    "lower = np.array([17,17,17])\n",
    "upper = np.array([19,19,19])\n",
    "\n",
    "Hippocampus = cv2.inRange(image_mask, lower, upper)\n",
    "\n",
    "masked = cv2.bitwise_and(image,image, mask=Hippocampus)\n",
    "\n",
    "result = image - masked\n",
    "\n",
    "#mask\n",
    "#plt.imshow(result, alpha=1)\n",
    "plt.imshow(image, cmap='gray') # I would add interpolation='none'\n",
    "plt.imshow(masked, cmap='jet', alpha=0.7) # interpolation='none'\n",
    "\n",
    "Load_test = nib.load('../data/external/T1/BRAINIX_DICOM_T1_IM-0001-0002.dcm')\n",
    "temp = plt.imshow(Load_test.get_fdata()[:,128,:])\n",
    "temp\n",
    "mappen = \"../data/external/IXI-T1\"\n",
    "path = Path(mappen)\n",
    "path.mkdir(exist_ok=True)\n",
    "\n",
    "alle_filene = [f for f in os.listdir(path) if f.endswith(\".gz\")]\n",
    "\n",
    "i = 0\n",
    "\n",
    "\n",
    "for x in alle_filene:\n",
    "    print(x)\n",
    "    img = plt.imshow(nib.load(mappen + \"/\" + x).get_fdata()[:,128,:])\n",
    "    bilde = Image.open(img)\n",
    "    bilde = bilde.save(\"{}.png\")\n",
    "    i = i + 1\n",
    "   \n",
    "img = top3.get_fdata()[:,128,:]\n",
    "bilde = plt.imshow(img)\n",
    "bilde\n",
    "plt.imshow(img)\n",
    "plt.imshow(top.get_fdata()[:,120,:])\n",
    "plt.imshow(side.get_fdata()[:,100,:])\n",
    "plt.imshow(DTI.get_fdata()[:,90,:])\n",
    "plt.imshow(MRA.get_fdata()[:,100,:])\n",
    "plt.imshow(PD.get_fdata()[:,120,:])"
   ]
  }
 ],
 "metadata": {
  "interpreter": {
   "hash": "aee8b7b246df8f9039afb4144a1f6fd8d2ca17a180786b69acc140d282b71a49"
  },
  "kernelspec": {
   "display_name": "Python 3.10.2 64-bit",
   "language": "python",
   "name": "python3"
  },
  "language_info": {
   "codemirror_mode": {
    "name": "ipython",
    "version": 3
   },
   "file_extension": ".py",
   "mimetype": "text/x-python",
   "name": "python",
   "nbconvert_exporter": "python",
   "pygments_lexer": "ipython3",
   "version": "3.9.16"
  },
  "orig_nbformat": 4
 },
 "nbformat": 4,
 "nbformat_minor": 2
}
